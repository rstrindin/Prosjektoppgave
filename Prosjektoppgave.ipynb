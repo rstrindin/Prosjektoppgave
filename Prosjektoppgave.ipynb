{
 "cells": [
  {
   "cell_type": "code",
   "execution_count": 7,
   "id": "2428dba8-e692-4bc2-ba29-68f3600d9a5b",
   "metadata": {},
   "outputs": [],
   "source": [
    "# Les inn fil\n",
    "\n",
    "import pandas as pd\n",
    "\n",
    "def lesFil():\n",
    "    df = pd.read_excel('support_uke_24.xlsx', sheet_name='Ark1')\n",
    "\n"
   ]
  }
 ],
 "metadata": {
  "kernelspec": {
   "display_name": "Python 3 (ipykernel)",
   "language": "python",
   "name": "python3"
  },
  "language_info": {
   "codemirror_mode": {
    "name": "ipython",
    "version": 3
   },
   "file_extension": ".py",
   "mimetype": "text/x-python",
   "name": "python",
   "nbconvert_exporter": "python",
   "pygments_lexer": "ipython3",
   "version": "3.12.3"
  }
 },
 "nbformat": 4,
 "nbformat_minor": 5
}
