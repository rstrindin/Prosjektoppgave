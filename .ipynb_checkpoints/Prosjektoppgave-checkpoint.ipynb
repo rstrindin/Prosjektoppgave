{
 "cells": [
  {
   "cell_type": "code",
   "execution_count": 79,
   "id": "2428dba8-e692-4bc2-ba29-68f3600d9a5b",
   "metadata": {},
   "outputs": [
    {
     "name": "stdout",
     "output_type": "stream",
     "text": [
      "[51. 44. 45. 35. 42.]\n"
     ]
    },
    {
     "data": {
      "image/png": "[encoded data removed]",
      "text/plain": [
       "<Figure size 640x480 with 1 Axes>"
      ]
     },
     "metadata": {},
     "output_type": "display_data"
    }
   ],
   "source": [
    "import pandas as pd\n",
    "import numpy as np\n",
    "import matplotlib.pyplot as plt\n",
    "\n",
    "\n",
    "\n",
    "# Kolonne 1: Ukedag henvendelsen fant sted\n",
    "# Kolonne 2: Klokkeslett kunden tok kontakt med supportavdelingen\n",
    "# Kolonne 3: Samtalens varighet\n",
    "# Kolonne 4: Kundens tilfredshet (skala fra 1-10 hvor 1 indikerer svært misfornøyd og 10 indikerer svært fornøyd).\n",
    "# Merk: kolonne 4 er ikke komplett da mange kunder unnlater å gi tilbakemelding på sin tilfredshet.\n",
    "\n",
    "# Leser inn excel-fil og returnerer dataene som arrays for hver kolonne\n",
    "def lesFil():\n",
    "    df = pd.read_excel('support_uke_24.xlsx', sheet_name='Ark1')\n",
    "    \n",
    "    u_dag    = df['Ukedag'].values\n",
    "    kl_slett = df['Klokkeslett'].values\n",
    "    varighet = df['Varighet'].values\n",
    "    score    = df['Tilfredshet'].values\n",
    "\n",
    "    return u_dag, kl_slett, varighet, score\n",
    "\n",
    "\n",
    "# Finner antall henvendelser pr. dag og visualiserer dette i et søylediagram\n",
    "def visAntallHenvendelser (henvendelser):\n",
    "    dager = np.array(['Mandag', 'Tirsdag', 'Onsdag', 'Torsdag', 'Fredag'])\n",
    "    antHenv = np.zeros(5)\n",
    "\n",
    "    for i in range(len(dager)):\n",
    "        antHenv[i] = np.count_nonzero(henvendelser == dager[i])\n",
    "\n",
    "    plt.bar(dager, antHenv)\n",
    "    \n",
    "    print (antHenv)\n",
    "\n",
    "\n",
    "u_dag, kl_slett, varighet, score = lesFil()\n",
    "visAntallHenvendelser (np.array(u_dag))\n",
    "#print (u_dag, kl_slett, varighet, score)    \n",
    "#print (u_dag)\n",
    "\n"
   ]
  }
 ],
 "metadata": {
  "kernelspec": {
   "display_name": "Python 3 (ipykernel)",
   "language": "python",
   "name": "python3"
  },
  "language_info": {
   "codemirror_mode": {
    "name": "ipython",
    "version": 3
   },
   "file_extension": ".py",
   "mimetype": "text/x-python",
   "name": "python",
   "nbconvert_exporter": "python",
   "pygments_lexer": "ipython3",
   "version": "3.12.3"
  }
 },
 "nbformat": 4,
 "nbformat_minor": 5
}
